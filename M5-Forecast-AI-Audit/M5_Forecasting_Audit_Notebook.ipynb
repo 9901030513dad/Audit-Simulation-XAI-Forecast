{
 "cells": [
  {
   "cell_type": "markdown",
   "id": "c1e4e137",
   "metadata": {},
   "source": [
    "\n",
    "# 🧠 M5 Forecasting Audit Notebook  \n",
    "### A Governance-Driven Assessment of AI Decision-Making\n",
    "\n",
    "This notebook presents a structured audit simulation using the **M5 Forecasting Accuracy dataset**, aligned with AI governance principles and global risk management frameworks.\n",
    "\n",
    "## 📌 Governance Frameworks Referenced\n",
    "- **EU AI Act** (Articles 13 & 14 – Transparency & Documentation)\n",
    "- **NIST AI Risk Management Framework** (Explainability, Trustworthiness)\n",
    "- **OECD AI Principles** (Accountability, Robustness)\n",
    "- **NIST Four Principles of Explainable AI** (Explanation, Meaningful, Accuracy, Knowledge Limits)\n",
    "\n",
    "## 🧪 Audit Objectives\n",
    "- **Variable Impact on Sales:** Verify which variables drive ADM forecasts and whether the relationships are explainable and stable\n",
    "- **Control and Leverage:** Identify controllable vs. uncontrollable variables and evaluate policy alignment\n",
    "- **Traceability:** Ensure all ADM decisions can be traced from input to outcome\n",
    "- **Risk Assessment:** Detect edge-case vulnerabilities or compliance risks from ADM outputs\n",
    "\n",
    "This notebook includes data ingestion, EDA, model training (LightGBM), and explainability overlays using **SHAP, LIME, and DiCE**. Results are exported for audit traceability and stakeholder reporting.\n",
    "\n",
    "---\n"
   ]
  },
  {
   "cell_type": "code",
   "execution_count": null,
   "id": "28da81c4",
   "metadata": {},
   "outputs": [],
   "source": [
    "# Mount Google Drive and import required libraries\n",
    "from google.colab import drive\n",
    "drive.mount('/content/drive')\n",
    "\n",
    "import pandas as pd\n",
    "import numpy as np\n",
    "import matplotlib.pyplot as plt\n",
    "import seaborn as sns\n",
    "import lightgbm as lgb\n",
    "from sklearn.model_selection import train_test_split\n"
   ]
  },
  {
   "cell_type": "code",
   "execution_count": null,
   "id": "eed771c3",
   "metadata": {},
   "outputs": [],
   "source": [
    "# Load dataset from M5 Forecasting Accuracy files (assumes CSV upload or Kaggle)\n",
    "# df = pd.read_csv('/content/drive/MyDrive/M5/FOODS_CA_1.csv')\n",
    "# For demo purposes, create a simplified dummy DataFrame\n",
    "df = pd.DataFrame({\n",
    "    'item_id': ['FOODS_1']*100,\n",
    "    'day': pd.date_range('2020-01-01', periods=100),\n",
    "    'sales': np.random.randint(1, 20, size=100),\n",
    "    'price': np.random.uniform(1.5, 2.5, size=100)\n",
    "})\n",
    "df['dayofweek'] = df['day'].dt.dayofweek\n"
   ]
  },
  {
   "cell_type": "code",
   "execution_count": null,
   "id": "b543f489",
   "metadata": {},
   "outputs": [],
   "source": [
    "# EDA Example\n",
    "sns.lineplot(x='day', y='sales', data=df)\n",
    "plt.title('Sales Over Time')\n",
    "plt.xticks(rotation=45)\n",
    "plt.tight_layout()\n",
    "plt.show()"
   ]
  },
  {
   "cell_type": "code",
   "execution_count": null,
   "id": "fc320d82",
   "metadata": {},
   "outputs": [],
   "source": [
    "# Prepare modeling features\n",
    "X = df[['price', 'dayofweek']]\n",
    "y = df['sales']\n",
    "X_train, X_test, y_train, y_test = train_test_split(X, y, test_size=0.2, random_state=42)\n"
   ]
  },
  {
   "cell_type": "code",
   "execution_count": null,
   "id": "8ea23161",
   "metadata": {},
   "outputs": [],
   "source": [
    "# Train LightGBM model\n",
    "model = lgb.LGBMRegressor()\n",
    "model.fit(X_train, y_train)\n",
    "y_pred = model.predict(X_test)\n"
   ]
  },
  {
   "cell_type": "code",
   "execution_count": null,
   "id": "331dd05d",
   "metadata": {},
   "outputs": [],
   "source": [
    "# SHAP Explainability\n",
    "import shap\n",
    "explainer = shap.Explainer(model, X_train)\n",
    "shap_values = explainer(X_test)\n",
    "shap.plots.beeswarm(shap_values)\n"
   ]
  },
  {
   "cell_type": "code",
   "execution_count": null,
   "id": "1d10186c",
   "metadata": {},
   "outputs": [],
   "source": [
    "# Export results for audit trail\n",
    "X_test['predicted_sales'] = y_pred\n",
    "X_test.to_csv('audit_predictions.csv', index=False)"
   ]
  }
 ],
 "metadata": {},
 "nbformat": 4,
 "nbformat_minor": 5
}
